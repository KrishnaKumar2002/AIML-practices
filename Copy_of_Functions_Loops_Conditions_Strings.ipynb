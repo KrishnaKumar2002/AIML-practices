{
  "nbformat": 4,
  "nbformat_minor": 5,
  "metadata": {
    "kernelspec": {
      "display_name": "Python 3",
      "language": "python",
      "name": "python3"
    },
    "language_info": {
      "codemirror_mode": {
        "name": "ipython",
        "version": 3
      },
      "file_extension": ".py",
      "mimetype": "text/x-python",
      "name": "python",
      "nbconvert_exporter": "python",
      "pygments_lexer": "ipython3",
      "version": "3.8.8"
    },
    "colab": {
      "name": "Copy of Functions_Loops_Conditions_Strings.ipynb",
      "provenance": [],
      "include_colab_link": true
    }
  },
  "cells": [
    {
      "cell_type": "markdown",
      "metadata": {
        "id": "view-in-github",
        "colab_type": "text"
      },
      "source": [
        "<a href=\"https://colab.research.google.com/github/KrishnaKumar2002/AIML-practices/blob/main/Copy_of_Functions_Loops_Conditions_Strings.ipynb\" target=\"_parent\"><img src=\"https://colab.research.google.com/assets/colab-badge.svg\" alt=\"Open In Colab\"/></a>"
      ]
    },
    {
      "cell_type": "markdown",
      "metadata": {
        "id": "5e197528"
      },
      "source": [
        "# <center> Assignment 3</center>"
      ],
      "id": "5e197528"
    },
    {
      "cell_type": "markdown",
      "metadata": {
        "id": "21dad820"
      },
      "source": [
        "**Check if the String contains only numbers**"
      ],
      "id": "21dad820"
    },
    {
      "cell_type": "code",
      "metadata": {
        "id": "12c320d4",
        "colab": {
          "base_uri": "https://localhost:8080/"
        },
        "outputId": "89e96e1a-d7e4-414e-e1f4-84d0a1a7d1ce"
      },
      "source": [
        "s = '8000'\n",
        "if s.isdigit():\n",
        "  print(bool(1))\n",
        "else:\n",
        "  print(bool(0))"
      ],
      "id": "12c320d4",
      "execution_count": null,
      "outputs": [
        {
          "output_type": "stream",
          "text": [
            "True\n"
          ],
          "name": "stdout"
        }
      ]
    },
    {
      "cell_type": "markdown",
      "metadata": {
        "id": "57785691"
      },
      "source": [
        "Expected Output = True"
      ],
      "id": "57785691"
    },
    {
      "cell_type": "markdown",
      "metadata": {
        "id": "2eacf576"
      },
      "source": [
        "**Check if the string is compose of all lower characters**"
      ],
      "id": "2eacf576"
    },
    {
      "cell_type": "code",
      "metadata": {
        "id": "22205b00",
        "colab": {
          "base_uri": "https://localhost:8080/"
        },
        "outputId": "9bbcfe33-f892-472f-a671-db2a992ad762"
      },
      "source": [
        "d = 'loweRcase'\n",
        "print(bool(d.islower()))"
      ],
      "id": "22205b00",
      "execution_count": null,
      "outputs": [
        {
          "output_type": "stream",
          "text": [
            "False\n"
          ],
          "name": "stdout"
        }
      ]
    },
    {
      "cell_type": "markdown",
      "metadata": {
        "id": "45597b4f"
      },
      "source": [
        "Expected Output = True"
      ],
      "id": "45597b4f"
    },
    {
      "cell_type": "markdown",
      "metadata": {
        "id": "8ff66efa"
      },
      "source": [
        "**Check if the first character in a string is lowercase**"
      ],
      "id": "8ff66efa"
    },
    {
      "cell_type": "code",
      "metadata": {
        "id": "c3b58a02",
        "colab": {
          "base_uri": "https://localhost:8080/"
        },
        "outputId": "8290b20e-726a-45e9-8d4d-2bf3206fb2d3"
      },
      "source": [
        "a = 'aPPlE'\n",
        "print(bool(a[0].islower()))"
      ],
      "id": "c3b58a02",
      "execution_count": null,
      "outputs": [
        {
          "output_type": "stream",
          "text": [
            "True\n"
          ],
          "name": "stdout"
        }
      ]
    },
    {
      "cell_type": "markdown",
      "metadata": {
        "id": "d4c1bda7"
      },
      "source": [
        "Expected Output = True"
      ],
      "id": "d4c1bda7"
    },
    {
      "cell_type": "markdown",
      "metadata": {
        "id": "znOWMGGI6WsR"
      },
      "source": [
        ""
      ],
      "id": "znOWMGGI6WsR"
    },
    {
      "cell_type": "markdown",
      "metadata": {
        "id": "8f17d7a0"
      },
      "source": [
        "**Join a list of strings into a single string, delimited by hyphens**"
      ],
      "id": "8f17d7a0"
    },
    {
      "cell_type": "code",
      "metadata": {
        "id": "0e93b7ab",
        "colab": {
          "base_uri": "https://localhost:8080/"
        },
        "outputId": "52484a3c-77ed-4d65-acee-ae0c72582665"
      },
      "source": [
        "string_list = ['a','b','c']\n",
        "str=\"\"\n",
        "for i in string_list:\n",
        "    str+=\"-{}\".format(i)\n",
        "print(str)"
      ],
      "id": "0e93b7ab",
      "execution_count": null,
      "outputs": [
        {
          "output_type": "stream",
          "text": [
            "-a-b-c\n"
          ],
          "name": "stdout"
        }
      ]
    },
    {
      "cell_type": "markdown",
      "metadata": {
        "id": "8a1ee30d"
      },
      "source": [
        "Expected Output = 'a-b-c'"
      ],
      "id": "8a1ee30d"
    },
    {
      "cell_type": "markdown",
      "metadata": {
        "id": "797d8b51"
      },
      "source": [
        "**Write a program to display the last digit of the number given**"
      ],
      "id": "797d8b51"
    },
    {
      "cell_type": "code",
      "metadata": {
        "id": "4a5101cd",
        "colab": {
          "base_uri": "https://localhost:8080/"
        },
        "outputId": "9fc0644c-6e8e-46d6-90e0-37d049b9f05e"
      },
      "source": [
        "number = 2345\n",
        "print(number%10)"
      ],
      "id": "4a5101cd",
      "execution_count": null,
      "outputs": [
        {
          "output_type": "stream",
          "text": [
            "5\n"
          ],
          "name": "stdout"
        }
      ]
    },
    {
      "cell_type": "markdown",
      "metadata": {
        "id": "f8482544"
      },
      "source": [
        "Expected Output = 5"
      ],
      "id": "f8482544"
    },
    {
      "cell_type": "markdown",
      "metadata": {
        "id": "82960657"
      },
      "source": [
        "**Given a number count the total number of digits in a number**"
      ],
      "id": "82960657"
    },
    {
      "cell_type": "code",
      "metadata": {
        "id": "c3a4576b",
        "colab": {
          "base_uri": "https://localhost:8080/"
        },
        "outputId": "de8d1224-36d3-47a2-a5bb-9e19276df645"
      },
      "source": [
        "number = 75869\n",
        "count=0\n",
        "while(number !=0):\n",
        "  number//=10\n",
        "  count+=1\n",
        "print(count)"
      ],
      "id": "c3a4576b",
      "execution_count": null,
      "outputs": [
        {
          "output_type": "stream",
          "text": [
            "5\n"
          ],
          "name": "stdout"
        }
      ]
    },
    {
      "cell_type": "markdown",
      "metadata": {
        "id": "e5545fbe"
      },
      "source": [
        "Expected Output = True"
      ],
      "id": "e5545fbe"
    },
    {
      "cell_type": "markdown",
      "metadata": {
        "id": "ba925ef7"
      },
      "source": [
        "**Reverse the following List using for loop**"
      ],
      "id": "ba925ef7"
    },
    {
      "cell_type": "code",
      "metadata": {
        "id": "cb656946",
        "colab": {
          "base_uri": "https://localhost:8080/",
          "height": 231
        },
        "outputId": "46e26539-927a-4dda-fdc9-ef5836eddef4"
      },
      "source": [
        "List = [10, 40, 160, 320]\n",
        "new_list=[]\n",
        "for a in reversed(list):\n",
        "  new_list.append(a)\n",
        "new_list"
      ],
      "id": "cb656946",
      "execution_count": null,
      "outputs": [
        {
          "output_type": "error",
          "ename": "TypeError",
          "evalue": "ignored",
          "traceback": [
            "\u001b[0;31m---------------------------------------------------------------------------\u001b[0m",
            "\u001b[0;31mTypeError\u001b[0m                                 Traceback (most recent call last)",
            "\u001b[0;32m<ipython-input-47-878e9094345f>\u001b[0m in \u001b[0;36m<module>\u001b[0;34m()\u001b[0m\n\u001b[1;32m      1\u001b[0m \u001b[0mList\u001b[0m \u001b[0;34m=\u001b[0m \u001b[0;34m[\u001b[0m\u001b[0;36m10\u001b[0m\u001b[0;34m,\u001b[0m \u001b[0;36m40\u001b[0m\u001b[0;34m,\u001b[0m \u001b[0;36m160\u001b[0m\u001b[0;34m,\u001b[0m \u001b[0;36m320\u001b[0m\u001b[0;34m]\u001b[0m\u001b[0;34m\u001b[0m\u001b[0;34m\u001b[0m\u001b[0m\n\u001b[1;32m      2\u001b[0m \u001b[0mnew_list\u001b[0m\u001b[0;34m=\u001b[0m\u001b[0;34m[\u001b[0m\u001b[0;34m]\u001b[0m\u001b[0;34m\u001b[0m\u001b[0;34m\u001b[0m\u001b[0m\n\u001b[0;32m----> 3\u001b[0;31m \u001b[0;32mfor\u001b[0m \u001b[0ma\u001b[0m \u001b[0;32min\u001b[0m \u001b[0mreversed\u001b[0m\u001b[0;34m(\u001b[0m\u001b[0mlist\u001b[0m\u001b[0;34m)\u001b[0m\u001b[0;34m:\u001b[0m\u001b[0;34m\u001b[0m\u001b[0;34m\u001b[0m\u001b[0m\n\u001b[0m\u001b[1;32m      4\u001b[0m   \u001b[0mnew_list\u001b[0m\u001b[0;34m.\u001b[0m\u001b[0mappend\u001b[0m\u001b[0;34m(\u001b[0m\u001b[0ma\u001b[0m\u001b[0;34m)\u001b[0m\u001b[0;34m\u001b[0m\u001b[0;34m\u001b[0m\u001b[0m\n\u001b[1;32m      5\u001b[0m \u001b[0mnew_list\u001b[0m\u001b[0;34m\u001b[0m\u001b[0;34m\u001b[0m\u001b[0m\n",
            "\u001b[0;31mTypeError\u001b[0m: 'type' object is not reversible"
          ]
        }
      ]
    },
    {
      "cell_type": "markdown",
      "metadata": {
        "id": "cdd36efe"
      },
      "source": [
        "Expected Output = [320, 160, 40, 10]"
      ],
      "id": "cdd36efe"
    },
    {
      "cell_type": "markdown",
      "metadata": {
        "id": "31f76fb8"
      },
      "source": [
        "**Display Numbers from -10 to 1 using for loop in a list**"
      ],
      "id": "31f76fb8"
    },
    {
      "cell_type": "code",
      "metadata": {
        "id": "ff74008b",
        "colab": {
          "base_uri": "https://localhost:8080/"
        },
        "outputId": "44252f1e-dbc8-4efe-bf31-3713044fcb48"
      },
      "source": [
        "list=[]\n",
        "for i in range(-10,2,1):\n",
        "  #print(i)\n",
        "  list.append(i)\n",
        "list"
      ],
      "id": "ff74008b",
      "execution_count": null,
      "outputs": [
        {
          "output_type": "execute_result",
          "data": {
            "text/plain": [
              "[-10, -9, -8, -7, -6, -5, -4, -3, -2, -1, 0, 1]"
            ]
          },
          "metadata": {
            "tags": []
          },
          "execution_count": 51
        }
      ]
    },
    {
      "cell_type": "markdown",
      "metadata": {
        "id": "deabb07f"
      },
      "source": [
        "Expected Output = [-10, -9, -8, -7, -6, -5, -4, -3, -2, -1]"
      ],
      "id": "deabb07f"
    },
    {
      "cell_type": "markdown",
      "metadata": {
        "id": "76ef9160"
      },
      "source": [
        "**Write a program to check whether a number is divisible by 7 or not**"
      ],
      "id": "76ef9160"
    },
    {
      "cell_type": "code",
      "metadata": {
        "id": "01765c9b",
        "colab": {
          "base_uri": "https://localhost:8080/"
        },
        "outputId": "846fe0ce-d058-44e0-eadf-b77465fe6889"
      },
      "source": [
        "number=int(input(\"enter a number\"))\n",
        "if number%7==0:\n",
        "  print(\"divisible\")\n",
        "else:\n",
        "  print(\"not divisible\")"
      ],
      "id": "01765c9b",
      "execution_count": null,
      "outputs": [
        {
          "output_type": "stream",
          "text": [
            "enter a number5\n",
            "not divisible\n"
          ],
          "name": "stdout"
        }
      ]
    },
    {
      "cell_type": "markdown",
      "metadata": {
        "id": "b42ff89d"
      },
      "source": [
        "**Print the sum of first 5 Natural Numbers using loop**"
      ],
      "id": "b42ff89d"
    },
    {
      "cell_type": "code",
      "metadata": {
        "id": "53ef24cb",
        "colab": {
          "base_uri": "https://localhost:8080/"
        },
        "outputId": "8dc53dc5-7073-4b26-834f-d47f9ebbdc6a"
      },
      "source": [
        "sum=0\n",
        "for i in range(1,6,1):\n",
        "  sum+=i\n",
        "print(sum)"
      ],
      "id": "53ef24cb",
      "execution_count": null,
      "outputs": [
        {
          "output_type": "stream",
          "text": [
            "15\n"
          ],
          "name": "stdout"
        }
      ]
    },
    {
      "cell_type": "markdown",
      "metadata": {
        "id": "7985cdd4"
      },
      "source": [
        "Expected Output = 15"
      ],
      "id": "7985cdd4"
    },
    {
      "cell_type": "code",
      "metadata": {
        "id": "b6b2de0d"
      },
      "source": [
        ""
      ],
      "id": "b6b2de0d",
      "execution_count": null,
      "outputs": []
    }
  ]
}